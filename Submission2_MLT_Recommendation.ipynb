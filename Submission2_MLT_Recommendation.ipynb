{
  "nbformat": 4,
  "nbformat_minor": 0,
  "metadata": {
    "colab": {
      "name": "Submission2 MLT-Recommendation.ipynb",
      "provenance": []
    },
    "kernelspec": {
      "name": "python3",
      "display_name": "Python 3"
    },
    "language_info": {
      "name": "python"
    },
    "accelerator": "GPU"
  },
  "cells": [
    {
      "cell_type": "markdown",
      "metadata": {
        "id": "WKz5G0hDV9RY"
      },
      "source": [
        "**Import library yang digunakan**"
      ]
    },
    {
      "cell_type": "code",
      "metadata": {
        "id": "2h835gOi-u78"
      },
      "source": [
        "#import library yang akan digunakan\n",
        "import pandas as pd\n",
        "import seaborn as sns\n",
        "import os\n",
        "%matplotlib inline\n",
        "import matplotlib.pyplot as plt\n",
        "from wordcloud import WordCloud\n",
        "from sklearn.feature_extraction.text import CountVectorizer, TfidfTransformer, TfidfVectorizer\n",
        "from sklearn import svm\n",
        "from sklearn.metrics import classification_report\n",
        "import numpy as np\n",
        "import tensorflow as tf\n",
        "\n",
        "from tensorflow import feature_column\n",
        "from tensorflow.keras import layers\n",
        "from sklearn.model_selection import train_test_split\n",
        "\n",
        "#ambil API KAGGLE\n",
        "os.environ['KAGGLE_USERNAME'] = \"johanesandre\"\n",
        "os.environ['KAGGLE_KEY'] = \"a54c201c45be4ec682e929488efb0ba3\""
      ],
      "execution_count": 1,
      "outputs": []
    },
    {
      "cell_type": "markdown",
      "metadata": {
        "id": "1qyhbM9uWGLc"
      },
      "source": [
        "**Download Dataset dari Kaggle**"
      ]
    },
    {
      "cell_type": "code",
      "metadata": {
        "id": "MAroz2jm-x-x",
        "colab": {
          "base_uri": "https://localhost:8080/"
        },
        "outputId": "4fb605a9-cd2e-4caf-f7cc-48c022940960"
      },
      "source": [
        "#Download Dataset Kaggle\n",
        "!kaggle datasets download -d swarnimrai/webtoon-comics-dataset/"
      ],
      "execution_count": 2,
      "outputs": [
        {
          "output_type": "stream",
          "name": "stdout",
          "text": [
            "Downloading webtoon-comics-dataset.zip to /content\n",
            "\r  0% 0.00/106k [00:00<?, ?B/s]\n",
            "\r100% 106k/106k [00:00<00:00, 40.3MB/s]\n"
          ]
        }
      ]
    },
    {
      "cell_type": "markdown",
      "metadata": {
        "id": "k1yBuLYzW4gv"
      },
      "source": [
        "**Persiapan Import Data ke Lembar Kerja**"
      ]
    },
    {
      "cell_type": "code",
      "metadata": {
        "id": "Fp5tzjVrtGyS"
      },
      "source": [
        "# melakukan ekstraksi pada file zip\n",
        "import zipfile,os\n",
        "local_zip = '/content/webtoon-comics-dataset.zip'\n",
        "zip_ref = zipfile.ZipFile(local_zip, 'r')\n",
        "zip_ref.extractall('/tmp')\n",
        "zip_ref.close()"
      ],
      "execution_count": 3,
      "outputs": []
    },
    {
      "cell_type": "markdown",
      "metadata": {
        "id": "CZkpkePHdt3N"
      },
      "source": [
        "**Persiapan Import Data ke Lembar Kerja**"
      ]
    },
    {
      "cell_type": "code",
      "metadata": {
        "colab": {
          "base_uri": "https://localhost:8080/",
          "height": 345
        },
        "id": "0-FZOsYSuY0S",
        "outputId": "a1e46296-bf63-4257-d877-5414288ac6e1"
      },
      "source": [
        "#membaca Data CSV dan melihat 5 data teratas\n",
        "df = pd.read_csv('/tmp/Webtoon Dataset.csv')\n",
        "df.head()"
      ],
      "execution_count": 4,
      "outputs": [
        {
          "output_type": "execute_result",
          "data": {
            "text/html": [
              "<div>\n",
              "<style scoped>\n",
              "    .dataframe tbody tr th:only-of-type {\n",
              "        vertical-align: middle;\n",
              "    }\n",
              "\n",
              "    .dataframe tbody tr th {\n",
              "        vertical-align: top;\n",
              "    }\n",
              "\n",
              "    .dataframe thead th {\n",
              "        text-align: right;\n",
              "    }\n",
              "</style>\n",
              "<table border=\"1\" class=\"dataframe\">\n",
              "  <thead>\n",
              "    <tr style=\"text-align: right;\">\n",
              "      <th></th>\n",
              "      <th>id</th>\n",
              "      <th>Name</th>\n",
              "      <th>Writer</th>\n",
              "      <th>Likes</th>\n",
              "      <th>Genre</th>\n",
              "      <th>Rating</th>\n",
              "      <th>Subscribers</th>\n",
              "      <th>Summary</th>\n",
              "      <th>Update</th>\n",
              "      <th>Reading Link</th>\n",
              "    </tr>\n",
              "  </thead>\n",
              "  <tbody>\n",
              "    <tr>\n",
              "      <th>0</th>\n",
              "      <td>0</td>\n",
              "      <td>Let's Play</td>\n",
              "      <td>Leeanne M. Krecic (Mongie)</td>\n",
              "      <td>30.6M</td>\n",
              "      <td>Romance</td>\n",
              "      <td>9.62</td>\n",
              "      <td>4.2M</td>\n",
              "      <td>She's young, single and about to achieve her d...</td>\n",
              "      <td>UP EVERY TUESDAY</td>\n",
              "      <td>https://www.webtoons.com/en/romance/letsplay/l...</td>\n",
              "    </tr>\n",
              "    <tr>\n",
              "      <th>1</th>\n",
              "      <td>1</td>\n",
              "      <td>True Beauty</td>\n",
              "      <td>Yaongyi</td>\n",
              "      <td>39.9M</td>\n",
              "      <td>Romance</td>\n",
              "      <td>9.60</td>\n",
              "      <td>6.4M</td>\n",
              "      <td>After binge-watching beauty videos online, a s...</td>\n",
              "      <td>UP EVERY WEDNESDAY</td>\n",
              "      <td>https://www.webtoons.com/en/romance/truebeauty...</td>\n",
              "    </tr>\n",
              "    <tr>\n",
              "      <th>2</th>\n",
              "      <td>2</td>\n",
              "      <td>Midnight Poppy Land</td>\n",
              "      <td>Lilydusk</td>\n",
              "      <td>10.4M</td>\n",
              "      <td>Romance</td>\n",
              "      <td>9.81</td>\n",
              "      <td>2.1M</td>\n",
              "      <td>After making a grisly discovery in the country...</td>\n",
              "      <td>UP EVERY SATURDAY</td>\n",
              "      <td>https://www.webtoons.com/en/romance/midnight-p...</td>\n",
              "    </tr>\n",
              "    <tr>\n",
              "      <th>3</th>\n",
              "      <td>3</td>\n",
              "      <td>Age Matters</td>\n",
              "      <td>Enjelicious</td>\n",
              "      <td>25.9M</td>\n",
              "      <td>Romance</td>\n",
              "      <td>9.79</td>\n",
              "      <td>3.5M</td>\n",
              "      <td>She's a hopeless romantic who's turning 30's  ...</td>\n",
              "      <td>UP EVERY WEDNESDAY</td>\n",
              "      <td>https://www.webtoons.com/en/romance/age-matter...</td>\n",
              "    </tr>\n",
              "    <tr>\n",
              "      <th>4</th>\n",
              "      <td>4</td>\n",
              "      <td>Unholy Blood</td>\n",
              "      <td>Lina Im / Jeonghyeon Kim</td>\n",
              "      <td>9.9M</td>\n",
              "      <td>Supernatural</td>\n",
              "      <td>9.85</td>\n",
              "      <td>1.5M</td>\n",
              "      <td>When vampires destroy her chance to have the n...</td>\n",
              "      <td>UP EVERY THURSDAY</td>\n",
              "      <td>https://www.webtoons.com/en/supernatural/unhol...</td>\n",
              "    </tr>\n",
              "  </tbody>\n",
              "</table>\n",
              "</div>"
            ],
            "text/plain": [
              "   id  ...                                       Reading Link\n",
              "0   0  ...  https://www.webtoons.com/en/romance/letsplay/l...\n",
              "1   1  ...  https://www.webtoons.com/en/romance/truebeauty...\n",
              "2   2  ...  https://www.webtoons.com/en/romance/midnight-p...\n",
              "3   3  ...  https://www.webtoons.com/en/romance/age-matter...\n",
              "4   4  ...  https://www.webtoons.com/en/supernatural/unhol...\n",
              "\n",
              "[5 rows x 10 columns]"
            ]
          },
          "metadata": {},
          "execution_count": 4
        }
      ]
    },
    {
      "cell_type": "code",
      "metadata": {
        "colab": {
          "base_uri": "https://localhost:8080/"
        },
        "id": "xaFixKRvuibr",
        "outputId": "f2ae3911-09be-4072-d90d-1f1df53261ac"
      },
      "source": [
        "# Mengecek total baris dan kolom dari dataset\n",
        "df.shape\n"
      ],
      "execution_count": 5,
      "outputs": [
        {
          "output_type": "execute_result",
          "data": {
            "text/plain": [
              "(569, 10)"
            ]
          },
          "metadata": {},
          "execution_count": 5
        }
      ]
    },
    {
      "cell_type": "markdown",
      "metadata": {
        "id": "GVZvxB8rd4OD"
      },
      "source": [
        "**Buat Fungsi untuk menghilangkan tanda baca di kolom summary. Tujuannya untuk mendapatkan pendekatan judul yang lebih baik**"
      ]
    },
    {
      "cell_type": "code",
      "metadata": {
        "id": "kVXDYvzTENGW"
      },
      "source": [
        "#buat fungsi untuk menghilangkan tanda baca pada kolom summary\n",
        "import string\n",
        "def remove_punctuation(text):\n",
        "    punctuationfree = \"\".join([i for i in text if i not in string.punctuation])\n",
        "    return punctuationfree"
      ],
      "execution_count": 6,
      "outputs": []
    },
    {
      "cell_type": "markdown",
      "metadata": {
        "id": "unUwuJTvky6D"
      },
      "source": [
        "**Terapkan fungsi remove_punctuation untuk kolom summary, simpan hasil baru pada kolom clean_summary**"
      ]
    },
    {
      "cell_type": "code",
      "metadata": {
        "colab": {
          "base_uri": "https://localhost:8080/",
          "height": 519
        },
        "id": "LFWZYAbbcQvv",
        "outputId": "0d994281-339c-4968-e5d9-29026928a4e4"
      },
      "source": [
        "#Bersihkan target kolom clean summary\n",
        "df['Clean_Summary'] = df['Summary'].apply(lambda x:remove_punctuation(x))\n",
        "df.head()"
      ],
      "execution_count": 7,
      "outputs": [
        {
          "output_type": "execute_result",
          "data": {
            "text/html": [
              "<div>\n",
              "<style scoped>\n",
              "    .dataframe tbody tr th:only-of-type {\n",
              "        vertical-align: middle;\n",
              "    }\n",
              "\n",
              "    .dataframe tbody tr th {\n",
              "        vertical-align: top;\n",
              "    }\n",
              "\n",
              "    .dataframe thead th {\n",
              "        text-align: right;\n",
              "    }\n",
              "</style>\n",
              "<table border=\"1\" class=\"dataframe\">\n",
              "  <thead>\n",
              "    <tr style=\"text-align: right;\">\n",
              "      <th></th>\n",
              "      <th>id</th>\n",
              "      <th>Name</th>\n",
              "      <th>Writer</th>\n",
              "      <th>Likes</th>\n",
              "      <th>Genre</th>\n",
              "      <th>Rating</th>\n",
              "      <th>Subscribers</th>\n",
              "      <th>Summary</th>\n",
              "      <th>Update</th>\n",
              "      <th>Reading Link</th>\n",
              "      <th>Clean_Summary</th>\n",
              "    </tr>\n",
              "  </thead>\n",
              "  <tbody>\n",
              "    <tr>\n",
              "      <th>0</th>\n",
              "      <td>0</td>\n",
              "      <td>Let's Play</td>\n",
              "      <td>Leeanne M. Krecic (Mongie)</td>\n",
              "      <td>30.6M</td>\n",
              "      <td>Romance</td>\n",
              "      <td>9.62</td>\n",
              "      <td>4.2M</td>\n",
              "      <td>She's young, single and about to achieve her d...</td>\n",
              "      <td>UP EVERY TUESDAY</td>\n",
              "      <td>https://www.webtoons.com/en/romance/letsplay/l...</td>\n",
              "      <td>Shes young single and about to achieve her dre...</td>\n",
              "    </tr>\n",
              "    <tr>\n",
              "      <th>1</th>\n",
              "      <td>1</td>\n",
              "      <td>True Beauty</td>\n",
              "      <td>Yaongyi</td>\n",
              "      <td>39.9M</td>\n",
              "      <td>Romance</td>\n",
              "      <td>9.60</td>\n",
              "      <td>6.4M</td>\n",
              "      <td>After binge-watching beauty videos online, a s...</td>\n",
              "      <td>UP EVERY WEDNESDAY</td>\n",
              "      <td>https://www.webtoons.com/en/romance/truebeauty...</td>\n",
              "      <td>After bingewatching beauty videos online a shy...</td>\n",
              "    </tr>\n",
              "    <tr>\n",
              "      <th>2</th>\n",
              "      <td>2</td>\n",
              "      <td>Midnight Poppy Land</td>\n",
              "      <td>Lilydusk</td>\n",
              "      <td>10.4M</td>\n",
              "      <td>Romance</td>\n",
              "      <td>9.81</td>\n",
              "      <td>2.1M</td>\n",
              "      <td>After making a grisly discovery in the country...</td>\n",
              "      <td>UP EVERY SATURDAY</td>\n",
              "      <td>https://www.webtoons.com/en/romance/midnight-p...</td>\n",
              "      <td>After making a grisly discovery in the country...</td>\n",
              "    </tr>\n",
              "    <tr>\n",
              "      <th>3</th>\n",
              "      <td>3</td>\n",
              "      <td>Age Matters</td>\n",
              "      <td>Enjelicious</td>\n",
              "      <td>25.9M</td>\n",
              "      <td>Romance</td>\n",
              "      <td>9.79</td>\n",
              "      <td>3.5M</td>\n",
              "      <td>She's a hopeless romantic who's turning 30's  ...</td>\n",
              "      <td>UP EVERY WEDNESDAY</td>\n",
              "      <td>https://www.webtoons.com/en/romance/age-matter...</td>\n",
              "      <td>Shes a hopeless romantic whos turning 30s  and...</td>\n",
              "    </tr>\n",
              "    <tr>\n",
              "      <th>4</th>\n",
              "      <td>4</td>\n",
              "      <td>Unholy Blood</td>\n",
              "      <td>Lina Im / Jeonghyeon Kim</td>\n",
              "      <td>9.9M</td>\n",
              "      <td>Supernatural</td>\n",
              "      <td>9.85</td>\n",
              "      <td>1.5M</td>\n",
              "      <td>When vampires destroy her chance to have the n...</td>\n",
              "      <td>UP EVERY THURSDAY</td>\n",
              "      <td>https://www.webtoons.com/en/supernatural/unhol...</td>\n",
              "      <td>When vampires destroy her chance to have the n...</td>\n",
              "    </tr>\n",
              "  </tbody>\n",
              "</table>\n",
              "</div>"
            ],
            "text/plain": [
              "   id  ...                                      Clean_Summary\n",
              "0   0  ...  Shes young single and about to achieve her dre...\n",
              "1   1  ...  After bingewatching beauty videos online a shy...\n",
              "2   2  ...  After making a grisly discovery in the country...\n",
              "3   3  ...  Shes a hopeless romantic whos turning 30s  and...\n",
              "4   4  ...  When vampires destroy her chance to have the n...\n",
              "\n",
              "[5 rows x 11 columns]"
            ]
          },
          "metadata": {},
          "execution_count": 7
        }
      ]
    },
    {
      "cell_type": "markdown",
      "metadata": {
        "id": "dunq2BbSktVC"
      },
      "source": [
        "**Cek Deskripsi Tiap Kolomnya**"
      ]
    },
    {
      "cell_type": "code",
      "metadata": {
        "colab": {
          "base_uri": "https://localhost:8080/"
        },
        "id": "E1UpMY5rEfmd",
        "outputId": "bb91e56f-6a66-4726-9489-c02701ed23f9"
      },
      "source": [
        "# Memuat deskripsi setiap kolom dataframe\n",
        "df.describe"
      ],
      "execution_count": 8,
      "outputs": [
        {
          "output_type": "execute_result",
          "data": {
            "text/plain": [
              "<bound method NDFrame.describe of       id  ...                                      Clean_Summary\n",
              "0      0  ...  Shes young single and about to achieve her dre...\n",
              "1      1  ...  After bingewatching beauty videos online a shy...\n",
              "2      2  ...  After making a grisly discovery in the country...\n",
              "3      3  ...  Shes a hopeless romantic whos turning 30s  and...\n",
              "4      4  ...  When vampires destroy her chance to have the n...\n",
              "..   ...  ...                                                ...\n",
              "564  564  ...  Lifes funny One minute youre jobless deep in d...\n",
              "565  565  ...  Adamsville is an all ages series about two mid...\n",
              "566  566  ...                         Get your WEBTOON news here\n",
              "567  567  ...  A series of tips for staying safe during the C...\n",
              "568  568  ...  The mysterious team that brings Webtoon to you...\n",
              "\n",
              "[569 rows x 11 columns]>"
            ]
          },
          "metadata": {},
          "execution_count": 8
        }
      ]
    },
    {
      "cell_type": "code",
      "metadata": {
        "colab": {
          "base_uri": "https://localhost:8080/"
        },
        "id": "GS9GLW71uMub",
        "outputId": "57129591-5511-4100-b4a8-9c3383041382"
      },
      "source": [
        "# Memuat informasi dataframe\n",
        "df.info()"
      ],
      "execution_count": 9,
      "outputs": [
        {
          "output_type": "stream",
          "name": "stdout",
          "text": [
            "<class 'pandas.core.frame.DataFrame'>\n",
            "RangeIndex: 569 entries, 0 to 568\n",
            "Data columns (total 11 columns):\n",
            " #   Column         Non-Null Count  Dtype  \n",
            "---  ------         --------------  -----  \n",
            " 0   id             569 non-null    int64  \n",
            " 1   Name           569 non-null    object \n",
            " 2   Writer         568 non-null    object \n",
            " 3   Likes          569 non-null    object \n",
            " 4   Genre          569 non-null    object \n",
            " 5   Rating         569 non-null    float64\n",
            " 6   Subscribers    569 non-null    object \n",
            " 7   Summary        569 non-null    object \n",
            " 8   Update         569 non-null    object \n",
            " 9   Reading Link   569 non-null    object \n",
            " 10  Clean_Summary  569 non-null    object \n",
            "dtypes: float64(1), int64(1), object(9)\n",
            "memory usage: 49.0+ KB\n"
          ]
        }
      ]
    },
    {
      "cell_type": "markdown",
      "metadata": {
        "id": "fOhmHTG_oGLG"
      },
      "source": [
        "***Persiapan Tahap Data Processing, Recheck kembali kolom yang akan dikelola. Tampilkan 5 data teratas***"
      ]
    },
    {
      "cell_type": "code",
      "metadata": {
        "colab": {
          "base_uri": "https://localhost:8080/",
          "height": 206
        },
        "id": "2VD20ZqBIdfI",
        "outputId": "451e058e-627a-4b0d-dcfa-a32fcec994c6"
      },
      "source": [
        "#Tampilkan data 5 teratas di setiap variabel\n",
        "columns = [\"Name\", \"Writer\", \"Genre\", \"Update\", \"Clean_Summary\"]\n",
        "df[columns].head()"
      ],
      "execution_count": 10,
      "outputs": [
        {
          "output_type": "execute_result",
          "data": {
            "text/html": [
              "<div>\n",
              "<style scoped>\n",
              "    .dataframe tbody tr th:only-of-type {\n",
              "        vertical-align: middle;\n",
              "    }\n",
              "\n",
              "    .dataframe tbody tr th {\n",
              "        vertical-align: top;\n",
              "    }\n",
              "\n",
              "    .dataframe thead th {\n",
              "        text-align: right;\n",
              "    }\n",
              "</style>\n",
              "<table border=\"1\" class=\"dataframe\">\n",
              "  <thead>\n",
              "    <tr style=\"text-align: right;\">\n",
              "      <th></th>\n",
              "      <th>Name</th>\n",
              "      <th>Writer</th>\n",
              "      <th>Genre</th>\n",
              "      <th>Update</th>\n",
              "      <th>Clean_Summary</th>\n",
              "    </tr>\n",
              "  </thead>\n",
              "  <tbody>\n",
              "    <tr>\n",
              "      <th>0</th>\n",
              "      <td>Let's Play</td>\n",
              "      <td>Leeanne M. Krecic (Mongie)</td>\n",
              "      <td>Romance</td>\n",
              "      <td>UP EVERY TUESDAY</td>\n",
              "      <td>Shes young single and about to achieve her dre...</td>\n",
              "    </tr>\n",
              "    <tr>\n",
              "      <th>1</th>\n",
              "      <td>True Beauty</td>\n",
              "      <td>Yaongyi</td>\n",
              "      <td>Romance</td>\n",
              "      <td>UP EVERY WEDNESDAY</td>\n",
              "      <td>After bingewatching beauty videos online a shy...</td>\n",
              "    </tr>\n",
              "    <tr>\n",
              "      <th>2</th>\n",
              "      <td>Midnight Poppy Land</td>\n",
              "      <td>Lilydusk</td>\n",
              "      <td>Romance</td>\n",
              "      <td>UP EVERY SATURDAY</td>\n",
              "      <td>After making a grisly discovery in the country...</td>\n",
              "    </tr>\n",
              "    <tr>\n",
              "      <th>3</th>\n",
              "      <td>Age Matters</td>\n",
              "      <td>Enjelicious</td>\n",
              "      <td>Romance</td>\n",
              "      <td>UP EVERY WEDNESDAY</td>\n",
              "      <td>Shes a hopeless romantic whos turning 30s  and...</td>\n",
              "    </tr>\n",
              "    <tr>\n",
              "      <th>4</th>\n",
              "      <td>Unholy Blood</td>\n",
              "      <td>Lina Im / Jeonghyeon Kim</td>\n",
              "      <td>Supernatural</td>\n",
              "      <td>UP EVERY THURSDAY</td>\n",
              "      <td>When vampires destroy her chance to have the n...</td>\n",
              "    </tr>\n",
              "  </tbody>\n",
              "</table>\n",
              "</div>"
            ],
            "text/plain": [
              "                  Name  ...                                      Clean_Summary\n",
              "0           Let's Play  ...  Shes young single and about to achieve her dre...\n",
              "1          True Beauty  ...  After bingewatching beauty videos online a shy...\n",
              "2  Midnight Poppy Land  ...  After making a grisly discovery in the country...\n",
              "3          Age Matters  ...  Shes a hopeless romantic whos turning 30s  and...\n",
              "4         Unholy Blood  ...  When vampires destroy her chance to have the n...\n",
              "\n",
              "[5 rows x 5 columns]"
            ]
          },
          "metadata": {},
          "execution_count": 10
        }
      ]
    },
    {
      "cell_type": "markdown",
      "metadata": {
        "id": "CjMV0I-4oZfF"
      },
      "source": [
        "***Cek Data set yang digunakan, terutama pada kolom clean_summary***"
      ]
    },
    {
      "cell_type": "code",
      "metadata": {
        "colab": {
          "base_uri": "https://localhost:8080/"
        },
        "id": "cjtXJ_-UIkjE",
        "outputId": "16d39e5b-3d9a-45b8-b7f1-b579d512e520"
      },
      "source": [
        "#Cek apa semua data ada yang kosong tidak\n",
        "df[columns].isnull().sum()"
      ],
      "execution_count": 11,
      "outputs": [
        {
          "output_type": "execute_result",
          "data": {
            "text/plain": [
              "Name             0\n",
              "Writer           1\n",
              "Genre            0\n",
              "Update           0\n",
              "Clean_Summary    0\n",
              "dtype: int64"
            ]
          },
          "metadata": {},
          "execution_count": 11
        }
      ]
    },
    {
      "cell_type": "markdown",
      "metadata": {
        "id": "LntqzOltE3v9"
      },
      "source": [
        "**Buat fungsi similarity dan persiapkan variabel similarity untuk diisi, kolom ini nanti akan digunakan untuk proses Countvector**"
      ]
    },
    {
      "cell_type": "code",
      "metadata": {
        "id": "bA9yeti-IoRm"
      },
      "source": [
        "#buat fungsi ambil data yang mirip. Data yang ditampung merupakan Nama, penulis, Genre, dan update\n",
        "def get_similar(data):\n",
        "  similar = []\n",
        "  for i in range(0, data.shape[0]):\n",
        "    similar.append(str(data['Name'][i]) + ' '+ str(data['Writer'][i]) + ' '+ str(data['Genre'][i]) + ' '+ str(data['Update'][i]))\n",
        "\n",
        "  return similar"
      ],
      "execution_count": 12,
      "outputs": []
    },
    {
      "cell_type": "code",
      "metadata": {
        "id": "CB_UqOysiXVi",
        "colab": {
          "base_uri": "https://localhost:8080/",
          "height": 421
        },
        "outputId": "7e456313-babb-45c3-9c0e-b315dcab6f5c"
      },
      "source": [
        "#tampilkan data dengan fungsi similarity yang dibuat tadi\n",
        "df['similar'] = get_similar(df)\n",
        "df.head(3)"
      ],
      "execution_count": 13,
      "outputs": [
        {
          "output_type": "execute_result",
          "data": {
            "text/html": [
              "<div>\n",
              "<style scoped>\n",
              "    .dataframe tbody tr th:only-of-type {\n",
              "        vertical-align: middle;\n",
              "    }\n",
              "\n",
              "    .dataframe tbody tr th {\n",
              "        vertical-align: top;\n",
              "    }\n",
              "\n",
              "    .dataframe thead th {\n",
              "        text-align: right;\n",
              "    }\n",
              "</style>\n",
              "<table border=\"1\" class=\"dataframe\">\n",
              "  <thead>\n",
              "    <tr style=\"text-align: right;\">\n",
              "      <th></th>\n",
              "      <th>id</th>\n",
              "      <th>Name</th>\n",
              "      <th>Writer</th>\n",
              "      <th>Likes</th>\n",
              "      <th>Genre</th>\n",
              "      <th>Rating</th>\n",
              "      <th>Subscribers</th>\n",
              "      <th>Summary</th>\n",
              "      <th>Update</th>\n",
              "      <th>Reading Link</th>\n",
              "      <th>Clean_Summary</th>\n",
              "      <th>similar</th>\n",
              "    </tr>\n",
              "  </thead>\n",
              "  <tbody>\n",
              "    <tr>\n",
              "      <th>0</th>\n",
              "      <td>0</td>\n",
              "      <td>Let's Play</td>\n",
              "      <td>Leeanne M. Krecic (Mongie)</td>\n",
              "      <td>30.6M</td>\n",
              "      <td>Romance</td>\n",
              "      <td>9.62</td>\n",
              "      <td>4.2M</td>\n",
              "      <td>She's young, single and about to achieve her d...</td>\n",
              "      <td>UP EVERY TUESDAY</td>\n",
              "      <td>https://www.webtoons.com/en/romance/letsplay/l...</td>\n",
              "      <td>Shes young single and about to achieve her dre...</td>\n",
              "      <td>Let's Play Leeanne M. Krecic (Mongie) Romance ...</td>\n",
              "    </tr>\n",
              "    <tr>\n",
              "      <th>1</th>\n",
              "      <td>1</td>\n",
              "      <td>True Beauty</td>\n",
              "      <td>Yaongyi</td>\n",
              "      <td>39.9M</td>\n",
              "      <td>Romance</td>\n",
              "      <td>9.60</td>\n",
              "      <td>6.4M</td>\n",
              "      <td>After binge-watching beauty videos online, a s...</td>\n",
              "      <td>UP EVERY WEDNESDAY</td>\n",
              "      <td>https://www.webtoons.com/en/romance/truebeauty...</td>\n",
              "      <td>After bingewatching beauty videos online a shy...</td>\n",
              "      <td>True Beauty Yaongyi Romance UP EVERY WEDNESDAY</td>\n",
              "    </tr>\n",
              "    <tr>\n",
              "      <th>2</th>\n",
              "      <td>2</td>\n",
              "      <td>Midnight Poppy Land</td>\n",
              "      <td>Lilydusk</td>\n",
              "      <td>10.4M</td>\n",
              "      <td>Romance</td>\n",
              "      <td>9.81</td>\n",
              "      <td>2.1M</td>\n",
              "      <td>After making a grisly discovery in the country...</td>\n",
              "      <td>UP EVERY SATURDAY</td>\n",
              "      <td>https://www.webtoons.com/en/romance/midnight-p...</td>\n",
              "      <td>After making a grisly discovery in the country...</td>\n",
              "      <td>Midnight Poppy Land Lilydusk Romance UP EVERY ...</td>\n",
              "    </tr>\n",
              "  </tbody>\n",
              "</table>\n",
              "</div>"
            ],
            "text/plain": [
              "   id  ...                                            similar\n",
              "0   0  ...  Let's Play Leeanne M. Krecic (Mongie) Romance ...\n",
              "1   1  ...     True Beauty Yaongyi Romance UP EVERY WEDNESDAY\n",
              "2   2  ...  Midnight Poppy Land Lilydusk Romance UP EVERY ...\n",
              "\n",
              "[3 rows x 12 columns]"
            ]
          },
          "metadata": {},
          "execution_count": 13
        }
      ]
    },
    {
      "cell_type": "markdown",
      "metadata": {
        "id": "rp5Ml97yF7_N"
      },
      "source": [
        "**Pada Kolom similar yang didapat tadi, lakukan fungsi CountVectorizer dengan lib sklearn. Fungsi ini digunakan mengonversi dokument teks menjadi matriks dalam jumlah token**"
      ]
    },
    {
      "cell_type": "code",
      "metadata": {
        "id": "iLfnrOVFlQYA"
      },
      "source": [
        "#ubah kolom similar column menjadi tipe datavector\n",
        "cm = CountVectorizer().fit_transform(df['similar'])"
      ],
      "execution_count": 14,
      "outputs": []
    },
    {
      "cell_type": "markdown",
      "metadata": {
        "id": "xLxPp1g_G5MO"
      },
      "source": [
        "**Lakukan Cosine Similarity Dengan Lib sklearn, Proses ini digunakan untuk menghitung kesamaan antara dua buah objek yang dinyatakan dalam dua buah vector**"
      ]
    },
    {
      "cell_type": "code",
      "metadata": {
        "colab": {
          "base_uri": "https://localhost:8080/"
        },
        "id": "5Wb_EuQhlSX3",
        "outputId": "acb1eeaa-065c-4e43-b32a-9c3dba1a651f"
      },
      "source": [
        "#Dapatkan nilai similarity/kemiripan matrix dengan fungsi Cosine similarity\n",
        "\n",
        "from sklearn.feature_extraction.text import CountVectorizer\n",
        "from sklearn.metrics.pairwise import cosine_similarity\n",
        "\n",
        "cs = cosine_similarity(cm)\n",
        "print(cs)"
      ],
      "execution_count": 15,
      "outputs": [
        {
          "output_type": "stream",
          "name": "stdout",
          "text": [
            "[[1.         0.37796447 0.35355339 ... 0.21081851 0.         0.        ]\n",
            " [0.37796447 1.         0.40089186 ... 0.23904572 0.         0.        ]\n",
            " [0.35355339 0.40089186 1.         ... 0.2236068  0.         0.        ]\n",
            " ...\n",
            " [0.21081851 0.23904572 0.2236068  ... 1.         0.11952286 0.31622777]\n",
            " [0.         0.         0.         ... 0.11952286 1.         0.37796447]\n",
            " [0.         0.         0.         ... 0.31622777 0.37796447 1.        ]]\n"
          ]
        }
      ]
    },
    {
      "cell_type": "markdown",
      "metadata": {
        "id": "jIqR258YHFdF"
      },
      "source": [
        "**Cek Total Baris & Kolom hasil cosine similarity**"
      ]
    },
    {
      "cell_type": "code",
      "metadata": {
        "colab": {
          "base_uri": "https://localhost:8080/"
        },
        "id": "mRj-XOGIlfI-",
        "outputId": "3d784366-2b67-414b-bf98-37040150d775"
      },
      "source": [
        "# Mengecek total baris dan kolom dari hasil cosine similarity\n",
        "cs.shape"
      ],
      "execution_count": 16,
      "outputs": [
        {
          "output_type": "execute_result",
          "data": {
            "text/plain": [
              "(569, 569)"
            ]
          },
          "metadata": {},
          "execution_count": 16
        }
      ]
    },
    {
      "cell_type": "markdown",
      "metadata": {
        "id": "Juquvnra2ElC"
      },
      "source": [
        "**Lakukan Uji Coba Pada Model yang telah dibuat. Ambil satu judul yang ada di dalam dataset**\n",
        "\n",
        "**Pada uji Coba ini kita melakukan 2 Judul Webtoon. Variable title untuk Testcase 1 dan title2 untuk testcast 2**"
      ]
    },
    {
      "cell_type": "code",
      "metadata": {
        "id": "kad_sBKXlIFv"
      },
      "source": [
        "#Uji coba dengan salah satu judul yang ada di dataset\n",
        "title = 'About Death'\n",
        "title2 = 'Delusion'\n",
        "comic_id = df[df.Name == title]['id'].values[0]\n",
        "comic_id2= df[df.Name == title2]['id'].values[0]"
      ],
      "execution_count": 17,
      "outputs": []
    },
    {
      "cell_type": "markdown",
      "metadata": {
        "id": "AXKUq19G4aU0"
      },
      "source": [
        "**Lakukan Enumerate dengan fungsi bawaan lib python.  Tujuannya untuk mengembalikan objek iterable (indeks dan itemnya) bersamaan.**"
      ]
    },
    {
      "cell_type": "code",
      "metadata": {
        "id": "y-cTMYcPllj4"
      },
      "source": [
        "#Cari enumerasi matrix kesamaan pada judul\n",
        "scores = list(enumerate(cs[comic_id]))\n",
        "scores2 = list(enumerate(cs[comic_id2]))\n",
        "#print (scores)"
      ],
      "execution_count": 18,
      "outputs": []
    },
    {
      "cell_type": "markdown",
      "metadata": {
        "id": "VfuF6Rlw5XYx"
      },
      "source": [
        "**Dari hasil yang didapatkan, skor di sortir berdasarkan Descending dengan fungsi bawaan python. Angka tertinggi menunjukan kemiripan dengan data test yang dimaksud**"
      ]
    },
    {
      "cell_type": "code",
      "metadata": {
        "id": "hKw3CP1-lqyY"
      },
      "source": [
        "#Sortir rekomendasi dari yang paling tinggi ke paling rendah\n",
        "sorted_scores = sorted(scores, key=lambda x:x[1], reverse=True)\n",
        "sorted_scores = sorted_scores[1:]\n",
        "\n",
        "sorted_scores2 = sorted(scores2, key=lambda x:x[1], reverse=True)\n",
        "sorted_scores2 = sorted_scores2[1:]\n",
        "#print(sorted_scores[:10])"
      ],
      "execution_count": 19,
      "outputs": []
    },
    {
      "cell_type": "markdown",
      "metadata": {
        "id": "_wkRZ_Z355Qp"
      },
      "source": [
        "**Tampilkan Hasil Rekomendasi yang didapatkan. Hasil Rekomendasi merupakan Top 10 Data yang skor paling tinggi**"
      ]
    },
    {
      "cell_type": "code",
      "metadata": {
        "colab": {
          "base_uri": "https://localhost:8080/"
        },
        "id": "kEdsbxvblvBT",
        "outputId": "c1648ed5-b85b-45fc-b18b-97c98640c783"
      },
      "source": [
        "#Tampilkan hasil rekomendasi untuk pembaca\n",
        "i = 0\n",
        "y= 0\n",
        "print(\"***TESTCASE 1*** \")\n",
        "print(\"Karena anda menyukai webtoon \", title , \" mungkin kamu juga menyukai ini:\")\n",
        "for item in sorted_scores:\n",
        "  comic_name = df[df.id == item[0]]['Name'].values[0]\n",
        "  print(i+1,comic_name)\n",
        "  i = i + 1\n",
        "  if i > 9:\n",
        "    break\n",
        "\n",
        "print(\"\\n\")\n",
        "print(\"***TESTCASE 2***\")\n",
        "#Tampilkan hasil rekomendasi untuk pembaca\n",
        "print(\"Karena anda menyukai webtoon \", title2 , \" mungkin kamu juga menyukai ini:\")\n",
        "for item in sorted_scores2:\n",
        "  comic_name = df[df.id == item[0]]['Name'].values[0]\n",
        "  print(y+1,comic_name)\n",
        "  y = y + 1\n",
        "  if y > 9:\n",
        "    break"
      ],
      "execution_count": 20,
      "outputs": [
        {
          "output_type": "stream",
          "name": "stdout",
          "text": [
            "***TESTCASE 1*** \n",
            "Karena anda menyukai webtoon  About Death  mungkin kamu juga menyukai ini:\n",
            "1 Death's Game\n",
            "2 ShootAround\n",
            "3 The Horizon\n",
            "4 Gourmet Hound\n",
            "5 Annarasumanara\n",
            "6 Ghost Theater\n",
            "7 Dark Mortal\n",
            "8 Your Letter\n",
            "9 Days of Hana\n",
            "10 The Golden Spoon\n",
            "\n",
            "\n",
            "***TESTCASE 2***\n",
            "Karena anda menyukai webtoon  Delusion  mungkin kamu juga menyukai ini:\n",
            "1 Dear X\n",
            "2 Ctrl+Z\n",
            "3 Rotten\n",
            "4 Nightmare Factory\n",
            "5 FLOWAR\n",
            "6 Grasp\n",
            "7 Shriek\n",
            "8 Chiller\n",
            "9 Epilogue\n",
            "10 Bite Me\n"
          ]
        }
      ]
    }
  ]
}